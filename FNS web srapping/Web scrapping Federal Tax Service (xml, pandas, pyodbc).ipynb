{
 "cells": [
  {
   "cell_type": "markdown",
   "id": "b3c1e95e",
   "metadata": {},
   "source": [
    "# FEDERAL TAX SERVICE"
   ]
  },
  {
   "cell_type": "markdown",
   "id": "269c3700",
   "metadata": {},
   "source": [
    "Data source on web site https://www.nalog.gov.ru/opendata/7707329152-paytax/"
   ]
  },
  {
   "cell_type": "markdown",
   "id": "17aae044",
   "metadata": {},
   "source": [
    "\n",
    "<img src=\"https://github.com/KarimDataMaster/DataLearn/blob/main/FNS%20web%20srapping/data_source.png?raw=true\"\n",
    "     alt=\"Markdown Monster icon\"\n",
    "     style=\"float: left; margin-right: 10px; width:70%\" />"
   ]
  },
  {
   "cell_type": "markdown",
   "id": "0958e0b4",
   "metadata": {},
   "source": [
    "the original code https://github.com/Championloo/FNS-parser"
   ]
  },
  {
   "cell_type": "markdown",
   "id": "71a6cfdf",
   "metadata": {},
   "source": [
    "My contribution to the code is implementing the different approach to work with processing (pandas), and SQL database connection (pyodbc)."
   ]
  },
  {
   "cell_type": "markdown",
   "id": "5936b287",
   "metadata": {},
   "source": [
    "# XML PART"
   ]
  },
  {
   "cell_type": "code",
   "execution_count": null,
   "id": "8b065508",
   "metadata": {},
   "outputs": [],
   "source": [
    "#import libraries\n",
    "import os\n",
    "import xmltodict\n",
    "import json\n",
    "import pandas as pd\n",
    "from tqdm import tqdm"
   ]
  },
  {
   "cell_type": "code",
   "execution_count": null,
   "id": "278370a6",
   "metadata": {},
   "outputs": [],
   "source": [
    "#path to the catalog with xml files\n",
    "path = r'C:\\Users\\Asus'"
   ]
  },
  {
   "cell_type": "code",
   "execution_count": null,
   "id": "f473c9e1",
   "metadata": {},
   "outputs": [],
   "source": [
    "%%time\n",
    "\n",
    "df = pd.DataFrame({'inn':[], 'org_name':[], 'tax_name':[], 'tax_amount':[], 'date':[]})\n",
    "d={}\n",
    "\n",
    "for file in tqdm(os.listdir(path)):\n",
    "    with open(f'{path}/{file}', 'r', encoding = 'utf-8') as f:\n",
    "        a = f.read()\n",
    "        xml = xmltodict.parse(a)\n",
    "        xml_dict = json.loads(json.dumps(xml))['Файл']['Документ']\n",
    "        try:\n",
    "            for i in xml_dict:\n",
    "                inn = i['СведНП']['@ИННЮЛ'].replace(\"\\'\", \"'\")\n",
    "                org_name = i['СведНП']['@НаимОрг']\n",
    "                date = i['@ДатаСост']\n",
    "                df['inn'] = inn\n",
    "                df['org_name'] = org_name\n",
    "                df['date'] = date\n",
    "                try:\n",
    "                    for j in i['СвУплСумНал']:\n",
    "                        tax_name = j['@НаимНалог']\n",
    "                        tax_amount = j['@СумУплНал']\n",
    "                        df['tax_name'] = tax_name\n",
    "                        df['tax_amount'] = tax_amount\n",
    "                        df = df.append(pd.DataFrame([d]))\n",
    "\n",
    "                except: \n",
    "                    tax_name = i['СвУплСумНал']['@НаимНалог']\n",
    "                    tax_amount = i['СвУплСумНал']['@СумУплНал']\n",
    "                    df['tax_name'] = tax_name\n",
    "                    df['tax_amount'] = tax_amount\n",
    "                    df = df.append(pd.DataFrame([d]))\n",
    "\n",
    "        except:\n",
    "            try:\n",
    "                inn = xml_dict['СведНП']['@ИННЮЛ'].replace(\"\\'\", \"'\")\n",
    "                org_name = xml_dict['СведНП']['@НаимОрг']\n",
    "                date = xml_dict['@ДатаСост']\n",
    "                df['inn'] = inn\n",
    "                df['org_name'] = org_name\n",
    "                df['date'] = date\n",
    "                \n",
    "                try:\n",
    "                    for j in xml_dict['СвУплСумНал']:\n",
    "                        tax_name = j['@НаимНалог']\n",
    "                        tax_amount = j['@СумУплНал']\n",
    "                        df['tax_name'] = tax_name\n",
    "                        df['tax_amount'] = tax_amount\n",
    "                        df = df.append(pd.DataFrame([d]))\n",
    "                except: \n",
    "                    tax_name = xml_dict['СвУплСумНал']['@НаимНалог']\n",
    "                    tax_amount = xml_dict['СвУплСумНал']['@СумУплНал']\n",
    "                    df['tax_name'] = tax_name\n",
    "                    df['tax_amount'] = tax_amount\n",
    "                    df = df.append(pd.DataFrame([d]))\n",
    "\n",
    "            except:\n",
    "                print(file)\n",
    "                print(inn)\n",
    "                print(xml_dict[i])\n",
    "                \n",
    "df['date'] = pd.to_datetime(df['date'], format='%d.%m.%Y')\n",
    "df['tax_amount'] = df['tax_amount'].astype(float)"
   ]
  },
  {
   "cell_type": "markdown",
   "id": "49834575",
   "metadata": {},
   "source": [
    "# SQL PART"
   ]
  },
  {
   "cell_type": "code",
   "execution_count": null,
   "id": "bb038e14",
   "metadata": {},
   "outputs": [],
   "source": [
    "server = 'server'"
   ]
  },
  {
   "cell_type": "code",
   "execution_count": null,
   "id": "38728111",
   "metadata": {},
   "outputs": [],
   "source": [
    "database = 'database'"
   ]
  },
  {
   "cell_type": "code",
   "execution_count": null,
   "id": "d673be3a",
   "metadata": {},
   "outputs": [],
   "source": [
    "schema = 'schema'"
   ]
  },
  {
   "cell_type": "code",
   "execution_count": null,
   "id": "3bb6eb25",
   "metadata": {},
   "outputs": [],
   "source": [
    "table_name = 'table_name' #target table name"
   ]
  },
  {
   "cell_type": "code",
   "execution_count": null,
   "id": "5e205536",
   "metadata": {},
   "outputs": [],
   "source": [
    "#make a connect to sql database\n",
    "def establish_connection():\n",
    "    server = server\n",
    "    database=database\n",
    "    connection_string = 'DRIVER={SQL Server};SERVER='+server+';DATABASE='+database+';'\n",
    "    connection = pyodbc.connect(connection_string)\n",
    "    \n",
    "    return connection"
   ]
  },
  {
   "cell_type": "code",
   "execution_count": null,
   "id": "279bb7f3",
   "metadata": {},
   "outputs": [],
   "source": [
    "connection = establish_connection()"
   ]
  },
  {
   "cell_type": "code",
   "execution_count": null,
   "id": "10f5757f",
   "metadata": {},
   "outputs": [],
   "source": [
    "DB_TABLE = True #overwright table - on"
   ]
  },
  {
   "cell_type": "code",
   "execution_count": null,
   "id": "f5a97e8e",
   "metadata": {},
   "outputs": [],
   "source": [
    "target_table_name = f'{database}.{schema}.{table_name}'"
   ]
  },
  {
   "cell_type": "code",
   "execution_count": null,
   "id": "2b111bfa",
   "metadata": {},
   "outputs": [],
   "source": [
    "with connection:\n",
    "    cursor = connection.cursor()\n",
    "    cursor.execute(f'DELETE FROM {schema}.{table_name}')\n",
    "    try:\n",
    "        lt = list(df.itertuples(index=False, name=None)) #list tuples\n",
    "        \n",
    "        cursor.executemany(\"\"\"\n",
    "        INSERT INTO [{}].[{}].[{}]\n",
    "        (inn, org_name, tax_name, tax_amount, date_add)\n",
    "        VALUES (?,?,?,?,?)        \n",
    "        \"\"\").format(database, schema, table_name), list_tuples)\n",
    "        \n",
    "        connection.commit\n",
    "        print('SUCCESS')\n",
    "    except:\n",
    "        print(\"UNSUCCESS, error {}, description {}\".format(sys.exc_info()[0], sys.exc_info()[1]))\n",
    "        connection.rollback()\n",
    "connection.close()        "
   ]
  }
 ],
 "metadata": {
  "kernelspec": {
   "display_name": "Python 3 (ipykernel)",
   "language": "python",
   "name": "python3"
  },
  "language_info": {
   "codemirror_mode": {
    "name": "ipython",
    "version": 3
   },
   "file_extension": ".py",
   "mimetype": "text/x-python",
   "name": "python",
   "nbconvert_exporter": "python",
   "pygments_lexer": "ipython3",
   "version": "3.9.7"
  }
 },
 "nbformat": 4,
 "nbformat_minor": 5
}
